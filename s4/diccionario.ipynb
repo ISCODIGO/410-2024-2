{
 "cells": [
  {
   "cell_type": "markdown",
   "metadata": {},
   "source": [
    "Inicializacion de un diccionario"
   ]
  },
  {
   "cell_type": "code",
   "execution_count": 2,
   "metadata": {},
   "outputs": [],
   "source": [
    "paises = dict()\n",
    "paises = {}"
   ]
  },
  {
   "cell_type": "markdown",
   "metadata": {},
   "source": [
    "Inicializacion con datos"
   ]
  },
  {
   "cell_type": "code",
   "execution_count": 19,
   "metadata": {},
   "outputs": [],
   "source": [
    "paises = {\"HN\": \"Honduras\", \"MX\": \"Mexico\"}"
   ]
  },
  {
   "cell_type": "markdown",
   "metadata": {},
   "source": [
    "Cada elemento es una `clave:valor`\n",
    "Donde el primer elemento es `\"HN\":\"Honduras\"`, clave=\"HN\" y valor=\"Honduras\"\n"
   ]
  },
  {
   "cell_type": "markdown",
   "metadata": {},
   "source": [
    "# Acceder al valor de elemento"
   ]
  },
  {
   "cell_type": "code",
   "execution_count": 6,
   "metadata": {},
   "outputs": [
    {
     "ename": "KeyError",
     "evalue": "'GT'",
     "output_type": "error",
     "traceback": [
      "\u001b[1;31m---------------------------------------------------------------------------\u001b[0m",
      "\u001b[1;31mKeyError\u001b[0m                                  Traceback (most recent call last)",
      "Cell \u001b[1;32mIn[6], line 1\u001b[0m\n\u001b[1;32m----> 1\u001b[0m \u001b[43mpaises\u001b[49m\u001b[43m[\u001b[49m\u001b[38;5;124;43m\"\u001b[39;49m\u001b[38;5;124;43mGT\u001b[39;49m\u001b[38;5;124;43m\"\u001b[39;49m\u001b[43m]\u001b[49m\n",
      "\u001b[1;31mKeyError\u001b[0m: 'GT'"
     ]
    }
   ],
   "source": [
    "paises[\"GT\"]"
   ]
  },
  {
   "cell_type": "markdown",
   "metadata": {},
   "source": [
    "Recordatorio de que pasa cuando una posicion es invalida en una lista"
   ]
  },
  {
   "cell_type": "code",
   "execution_count": 7,
   "metadata": {},
   "outputs": [
    {
     "ename": "IndexError",
     "evalue": "list index out of range",
     "output_type": "error",
     "traceback": [
      "\u001b[1;31m---------------------------------------------------------------------------\u001b[0m",
      "\u001b[1;31mIndexError\u001b[0m                                Traceback (most recent call last)",
      "Cell \u001b[1;32mIn[7], line 2\u001b[0m\n\u001b[0;32m      1\u001b[0m lst \u001b[38;5;241m=\u001b[39m [\u001b[38;5;241m1\u001b[39m, \u001b[38;5;241m2\u001b[39m, \u001b[38;5;241m3\u001b[39m]\n\u001b[1;32m----> 2\u001b[0m \u001b[43mlst\u001b[49m\u001b[43m[\u001b[49m\u001b[38;5;241;43m4\u001b[39;49m\u001b[43m]\u001b[49m\n",
      "\u001b[1;31mIndexError\u001b[0m: list index out of range"
     ]
    }
   ],
   "source": [
    "lst = [1, 2, 3]\n",
    "lst[4]"
   ]
  },
  {
   "cell_type": "code",
   "execution_count": 8,
   "metadata": {},
   "outputs": [
    {
     "name": "stdout",
     "output_type": "stream",
     "text": [
      "Pais no esta agregado\n"
     ]
    }
   ],
   "source": [
    "try:\n",
    "    print(paises[\"CR\"])\n",
    "except KeyError:\n",
    "    print(\"Pais no esta agregado\")"
   ]
  },
  {
   "cell_type": "code",
   "execution_count": 12,
   "metadata": {},
   "outputs": [
    {
     "name": "stdout",
     "output_type": "stream",
     "text": [
      "Honduras\n",
      "None\n",
      "Mexico\n",
      "Pais no encontrado\n"
     ]
    }
   ],
   "source": [
    "print(paises.get(\"HN\"))\n",
    "print(paises.get(\"CR\"))\n",
    "print(paises.get(\"MX\", \"Pais no encontrado\"))\n",
    "print(paises.get(\"ES\", \"Pais no encontrado\"))"
   ]
  },
  {
   "cell_type": "markdown",
   "metadata": {},
   "source": [
    "# Modificar un elemento"
   ]
  },
  {
   "cell_type": "code",
   "execution_count": 20,
   "metadata": {},
   "outputs": [
    {
     "name": "stdout",
     "output_type": "stream",
     "text": [
      "{'HN': 'Honolulu', 'MX': 'Mexico', 'NI': 'Nicaragua'}\n"
     ]
    }
   ],
   "source": [
    "paises[\"HN\"] = \"Honolulu\"  # actualiza, porque la clave existe\n",
    "paises[\"NI\"] = \"Nicaragua\"  # crea, porque la clave no existe\n",
    "print(paises)"
   ]
  },
  {
   "cell_type": "markdown",
   "metadata": {},
   "source": [
    "# Remover elementos"
   ]
  },
  {
   "cell_type": "code",
   "execution_count": 21,
   "metadata": {},
   "outputs": [
    {
     "name": "stdout",
     "output_type": "stream",
     "text": [
      "{'MX': 'Mexico', 'NI': 'Nicaragua'}\n"
     ]
    }
   ],
   "source": [
    "del paises[\"HN\"]\n",
    "print(paises)"
   ]
  },
  {
   "cell_type": "code",
   "execution_count": 22,
   "metadata": {},
   "outputs": [
    {
     "name": "stdout",
     "output_type": "stream",
     "text": [
      "{'MX': 'Mexico'}\n"
     ]
    }
   ],
   "source": [
    "paises.pop(\"NI\")\n",
    "print(paises)"
   ]
  },
  {
   "cell_type": "code",
   "execution_count": 25,
   "metadata": {},
   "outputs": [
    {
     "name": "stdout",
     "output_type": "stream",
     "text": [
      "Eliminado:  ('HN', 'Honduras')\n",
      "{'MX': 'Mexico'}\n"
     ]
    }
   ],
   "source": [
    "paises[\"HN\"] = \"Honduras\"\n",
    "tupla = paises.popitem()\n",
    "print(\"Eliminado: \", tupla)\n",
    "print(paises)"
   ]
  },
  {
   "cell_type": "markdown",
   "metadata": {},
   "source": [
    "# Listar elementos"
   ]
  },
  {
   "cell_type": "code",
   "execution_count": 27,
   "metadata": {},
   "outputs": [
    {
     "name": "stdout",
     "output_type": "stream",
     "text": [
      "ZE Zelda\n",
      "COD Call of Duty\n",
      "GTA Grand Theft Auto\n",
      "GOW God of War\n",
      "PK Pokemon\n"
     ]
    }
   ],
   "source": [
    "videojuegos = {\n",
    "    \"ZE\": \"Zelda\",\n",
    "    \"COD\": \"Call of Duty\",\n",
    "    \"GTA\": \"Grand Theft Auto\",\n",
    "    \"GOW\": \"God of War\",\n",
    "    \"PK\": \"Pokemon\",\n",
    "}\n",
    "\n",
    "for juego in videojuegos:\n",
    "    print(juego, videojuegos[juego])"
   ]
  },
  {
   "cell_type": "code",
   "execution_count": 28,
   "metadata": {},
   "outputs": [
    {
     "name": "stdout",
     "output_type": "stream",
     "text": [
      "ZE Zelda\n",
      "COD Call of Duty\n",
      "GTA Grand Theft Auto\n",
      "GOW God of War\n",
      "PK Pokemon\n"
     ]
    }
   ],
   "source": [
    "for clave, valor in videojuegos.items():\n",
    "    print(clave, valor)"
   ]
  },
  {
   "cell_type": "code",
   "execution_count": 30,
   "metadata": {},
   "outputs": [
    {
     "name": "stdout",
     "output_type": "stream",
     "text": [
      "['ZE', 'COD', 'GTA', 'GOW', 'PK']\n"
     ]
    }
   ],
   "source": [
    "print(list(videojuegos.keys()))"
   ]
  },
  {
   "cell_type": "code",
   "execution_count": 31,
   "metadata": {},
   "outputs": [
    {
     "name": "stdout",
     "output_type": "stream",
     "text": [
      "['Zelda', 'Call of Duty', 'Grand Theft Auto', 'God of War', 'Pokemon']\n"
     ]
    }
   ],
   "source": [
    "print(list(videojuegos.values()))"
   ]
  }
 ],
 "metadata": {
  "kernelspec": {
   "display_name": "Python 3",
   "language": "python",
   "name": "python3"
  },
  "language_info": {
   "codemirror_mode": {
    "name": "ipython",
    "version": 3
   },
   "file_extension": ".py",
   "mimetype": "text/x-python",
   "name": "python",
   "nbconvert_exporter": "python",
   "pygments_lexer": "ipython3",
   "version": "3.12.4"
  }
 },
 "nbformat": 4,
 "nbformat_minor": 2
}
